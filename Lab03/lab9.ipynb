{
 "cells": [
  {
   "cell_type": "markdown",
   "metadata": {},
   "source": [
    "Copyright **`(c)`** 2023 Giovanni Squillero `<giovanni.squillero@polito.it>`  \n",
    "[`https://github.com/squillero/computational-intelligence`](https://github.com/squillero/computational-intelligence)  \n",
    "Free for personal or classroom use; see [`LICENSE.md`](https://github.com/squillero/computational-intelligence/blob/master/LICENSE.md) for details.  "
   ]
  },
  {
   "cell_type": "markdown",
   "metadata": {},
   "source": [
    "# LAB9\n",
    "\n",
    "Write a local-search algorithm (eg. an EA) able to solve the *Problem* instances 1, 2, 5, and 10 on a 1000-loci genomes, using a minimum number of fitness calls. That's all.\n",
    "\n",
    "### Deadlines:\n",
    "\n",
    "* Submission: Sunday, December 3 ([CET](https://www.timeanddate.com/time/zones/cet))\n",
    "* Reviews: Sunday, December 10 ([CET](https://www.timeanddate.com/time/zones/cet))\n",
    "\n",
    "Notes:\n",
    "\n",
    "* Reviews will be assigned  on Monday, December 4\n",
    "* You need to commit in order to be selected as a reviewer (ie. better to commit an empty work than not to commit)"
   ]
  },
  {
   "cell_type": "code",
   "execution_count": 13,
   "metadata": {},
   "outputs": [],
   "source": [
    "from random import choices, randint\n",
    "import random\n",
    "import math\n",
    "\n",
    "\n",
    "import lab9_lib"
   ]
  },
  {
   "cell_type": "code",
   "execution_count": 14,
   "metadata": {},
   "outputs": [],
   "source": [
    "LOCI = 1000\n",
    "MUT_OR_REC = 0.5\n",
    "MAX_GENS = 8000\n",
    "POP_SIZE = 40\n",
    "OFF_SIZE = 20"
   ]
  },
  {
   "cell_type": "markdown",
   "metadata": {},
   "source": [
    "### Parent Selection\n",
    "Tournament selection between the best 2 parents and 2 random parents with weighted probability of victory based on fitness\n",
    "Winners can be either both best parents, a combination of a best parent and a random one or both random selections"
   ]
  },
  {
   "cell_type": "code",
   "execution_count": 15,
   "metadata": {},
   "outputs": [],
   "source": [
    "def parent_selection(population):\n",
    "    pool = []   \n",
    "    pool1 = [population[0],population[1]]\n",
    "    pool2 = choices(population, k=2)\n",
    "    pool2.sort(key=lambda x: x[1], reverse=True)\n",
    "\n",
    "    if random.random() > pool1[0][1] / (pool1[0][1]+pool2[0][1]):\n",
    "        pool.append(pool1[0])\n",
    "    else:\n",
    "        pool.append(pool2[0])\n",
    "    \n",
    "    if random.random() > pool1[1][1] / (pool1[1][1]+pool2[1][1]):\n",
    "        pool.append(pool1[1])\n",
    "    else:\n",
    "        pool.append(pool2[1])\n",
    "\n",
    "    return pool\n",
    "\n",
    "\n"
   ]
  },
  {
   "cell_type": "markdown",
   "metadata": {},
   "source": [
    "### Mutate Function\n",
    "Mutate a number between 0 and 30 of randomly sampled genes"
   ]
  },
  {
   "cell_type": "code",
   "execution_count": 16,
   "metadata": {},
   "outputs": [],
   "source": [
    "def mutate(parent):\n",
    "    slice_size = randint(0, 30)\n",
    "    offspring = parent.copy()\n",
    "\n",
    "    mutate_indexes = random.sample(range(0, LOCI), slice_size)\n",
    "\n",
    "    for i in mutate_indexes:\n",
    "        offspring[i] = 1 - offspring[i]\n",
    "\n",
    "    return offspring"
   ]
  },
  {
   "cell_type": "markdown",
   "metadata": {},
   "source": [
    "### Recombination\n",
    "Applied with random slice size"
   ]
  },
  {
   "cell_type": "code",
   "execution_count": 17,
   "metadata": {},
   "outputs": [],
   "source": [
    "def recombine(p1, p2):\n",
    "    slice_size = randint(0, LOCI - 1)\n",
    "\n",
    "    off1 = p1[:slice_size] + p2[slice_size:]\n",
    "    off2 = p2[:slice_size] + p1[slice_size:]\n",
    "\n",
    "    return ( off1, off2 )"
   ]
  },
  {
   "cell_type": "markdown",
   "metadata": {},
   "source": [
    "### Survival Selection"
   ]
  },
  {
   "cell_type": "code",
   "execution_count": 18,
   "metadata": {},
   "outputs": [],
   "source": [
    "def survival_selection(population):\n",
    "    population.sort(key=lambda x: x[1], reverse=True)\n",
    "    return population[:POP_SIZE]\n"
   ]
  },
  {
   "cell_type": "markdown",
   "metadata": {},
   "source": [
    "### Offspring Generator\n",
    "Chooses between mutation or recombination with 50:50 probability"
   ]
  },
  {
   "cell_type": "code",
   "execution_count": 19,
   "metadata": {},
   "outputs": [],
   "source": [
    "def generate_offspring(population):\n",
    "    individuals = []\n",
    "    for _ in range(OFF_SIZE):\n",
    "        \n",
    "        parents = parent_selection(population)\n",
    "\n",
    "        if random.random() <= MUT_OR_REC:\n",
    "            offsprings = (mutate(parents[0][0]), mutate(parents[1][0]))\n",
    "        else: \n",
    "            offsprings = recombine(parents[0][0], parents[1][0])\n",
    "\n",
    "        individuals.append(offsprings[0])\n",
    "        individuals.append(offsprings[1])\n",
    "\n",
    "    return individuals"
   ]
  },
  {
   "cell_type": "markdown",
   "metadata": {},
   "source": [
    "### Genetic Algorithm"
   ]
  },
  {
   "cell_type": "code",
   "execution_count": 20,
   "metadata": {},
   "outputs": [],
   "source": [
    "def genetic_algorithm(instances):\n",
    "    fitness = lab9_lib.make_problem(instances)\n",
    "\n",
    "    population = []\n",
    "    for _ in range(POP_SIZE):\n",
    "        individual = [random.randint(0, 1) for _ in range(LOCI)]\n",
    "        population.append((individual, fitness(individual)))\n",
    "    \n",
    "    best_individual = population[0]\n",
    "\n",
    "    for _ in range(MAX_GENS):\n",
    "\n",
    "        if math.isclose(1, population[0][1]):\n",
    "            break\n",
    "        \n",
    "        offsprings = generate_offspring(population)\n",
    "        population += [(individual, fitness(individual)) for individual in offsprings]\n",
    "        population = survival_selection(population)\n",
    "\n",
    "        best_individual = population[0]\n",
    "    \n",
    "    print(f\"Best individual's fitness: {best_individual[1]:.2%}\")\n",
    "    print(\"Fitness calls: \" + str(fitness.calls))"
   ]
  },
  {
   "cell_type": "markdown",
   "metadata": {},
   "source": [
    "### Instances: 1"
   ]
  },
  {
   "cell_type": "code",
   "execution_count": 21,
   "metadata": {},
   "outputs": [
    {
     "name": "stdout",
     "output_type": "stream",
     "text": [
      "Best individual's fitness: 100.00%\n",
      "Fitness calls: 281840\n"
     ]
    }
   ],
   "source": [
    "genetic_algorithm(1)"
   ]
  },
  {
   "cell_type": "markdown",
   "metadata": {},
   "source": [
    "### Instances: 2"
   ]
  },
  {
   "cell_type": "code",
   "execution_count": 22,
   "metadata": {},
   "outputs": [
    {
     "name": "stdout",
     "output_type": "stream",
     "text": [
      "Best individual's fitness: 90.40%\n",
      "Fitness calls: 320040\n"
     ]
    }
   ],
   "source": [
    "genetic_algorithm(2)"
   ]
  },
  {
   "cell_type": "markdown",
   "metadata": {},
   "source": [
    "### Instances: 5"
   ]
  },
  {
   "cell_type": "code",
   "execution_count": 23,
   "metadata": {},
   "outputs": [
    {
     "name": "stdout",
     "output_type": "stream",
     "text": [
      "Best individual's fitness: 50.37%\n",
      "Fitness calls: 320040\n"
     ]
    }
   ],
   "source": [
    "genetic_algorithm(5)"
   ]
  },
  {
   "cell_type": "markdown",
   "metadata": {},
   "source": [
    "### Instances: 10"
   ]
  },
  {
   "cell_type": "code",
   "execution_count": 24,
   "metadata": {},
   "outputs": [
    {
     "name": "stdout",
     "output_type": "stream",
     "text": [
      "Best individual's fitness: 32.77%\n",
      "Fitness calls: 320040\n"
     ]
    }
   ],
   "source": [
    "genetic_algorithm(10)"
   ]
  }
 ],
 "metadata": {
  "kernelspec": {
   "display_name": "ci-fLJ3OwGs-py3.12",
   "language": "python",
   "name": "python3"
  },
  "language_info": {
   "codemirror_mode": {
    "name": "ipython",
    "version": 3
   },
   "file_extension": ".py",
   "mimetype": "text/x-python",
   "name": "python",
   "nbconvert_exporter": "python",
   "pygments_lexer": "ipython3",
   "version": "3.12.0"
  }
 },
 "nbformat": 4,
 "nbformat_minor": 2
}
